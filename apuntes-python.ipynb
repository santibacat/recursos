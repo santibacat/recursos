{
 "cells": [
  {
   "cell_type": "markdown",
   "metadata": {
    "colab_type": "text",
    "id": "vVnvj23WtB62"
   },
   "source": [
    "# PYTHON BÁSICO"
   ]
  },
  {
   "cell_type": "markdown",
   "metadata": {
    "colab_type": "text",
    "id": "kiaHJUm94ny3"
   },
   "source": [
    "## Operaciones"
   ]
  },
  {
   "cell_type": "markdown",
   "metadata": {},
   "source": [
    "Basic operations: +-*/\n",
    "\n",
    "```python\n",
    "20 // 6 # floor division\n",
    "1.25 % 0.5 # modulus\n",
    "20 ** 3 # exponentiation\n",
    "x += 1 # same as x=x+1\n",
    "```\n",
    "\n",
    "* Can't use `x++` as in C++. Use `x+=1`.\n",
    "* Don't use `^` for exponentiation as in C++. Use ``**`.\n",
    "* You can't sum string + ints (`error`). Must use type conversion."
   ]
  },
  {
   "cell_type": "code",
   "execution_count": 6,
   "metadata": {
    "colab": {
     "base_uri": "https://localhost:8080/",
     "height": 164
    },
    "colab_type": "code",
    "executionInfo": {
     "elapsed": 456,
     "status": "error",
     "timestamp": 1568065255913,
     "user": {
      "displayName": "Santi Bacat",
      "photoUrl": "https://lh3.googleusercontent.com/a-/AAuE7mA4y-9VrWAAh_CxZbKozOMT9SBBhO024HQAJHn0g4g=s64",
      "userId": "17646288971276982559"
     },
     "user_tz": -120
    },
    "id": "U01GtDmT-Bfg",
    "outputId": "e27984b7-cff2-4b59-80a9-8c55bb09e455"
   },
   "outputs": [
    {
     "ename": "TypeError",
     "evalue": "ignored",
     "output_type": "error",
     "traceback": [
      "\u001b[0;31m---------------------------------------------------------------------------\u001b[0m",
      "\u001b[0;31mTypeError\u001b[0m                                 Traceback (most recent call last)",
      "\u001b[0;32m<ipython-input-6-db53bd892eed>\u001b[0m in \u001b[0;36m<module>\u001b[0;34m()\u001b[0m\n\u001b[0;32m----> 1\u001b[0;31m \u001b[0mprint\u001b[0m\u001b[0;34m(\u001b[0m\u001b[0;36m2\u001b[0m\u001b[0;34m+\u001b[0m\u001b[0;34m\"2\"\u001b[0m\u001b[0;34m)\u001b[0m\u001b[0;34m\u001b[0m\u001b[0;34m\u001b[0m\u001b[0m\n\u001b[0m",
      "\u001b[0;31mTypeError\u001b[0m: unsupported operand type(s) for +: 'int' and 'str'"
     ]
    }
   ],
   "source": [
    "print(2+\"2\") # error\n",
    "print(2+int(\"2\")) # 4"
   ]
  },
  {
   "cell_type": "markdown",
   "metadata": {
    "colab_type": "text",
    "id": "6psbyc0VDj6N"
   },
   "source": [
    "* CAREFUL: Convert float to int **DOES NOT ROUND** (just cuts). Eg: f6.7 > i6\n"
   ]
  },
  {
   "cell_type": "markdown",
   "metadata": {
    "colab_type": "text",
    "id": "iTH7Ryt4tzqe"
   },
   "source": [
    "**COMPLEX NUMBERS**\n",
    "\n",
    "```python\n",
    "complex_var = 2+3j\n",
    "# imaginary or real components\n",
    "print(\"Complex: \", complex_var, \"Real: \", complex_var.real, \"Imag: \", complex_var.imag)\n",
    "```"
   ]
  },
  {
   "cell_type": "markdown",
   "metadata": {
    "colab_type": "text",
    "id": "Zdv6r_0dI69N"
   },
   "source": [
    "## Strings"
   ]
  },
  {
   "cell_type": "markdown",
   "metadata": {
    "colab_type": "text",
    "id": "nL1yH7WrYVbB"
   },
   "source": [
    "* Create them with `\"\"` or `''`\n",
    "* Behave like list of characters (can use `str[7]`)\n",
    "* Use `\\` for special chars (\\n = new line)"
   ]
  },
  {
   "cell_type": "code",
   "execution_count": 1,
   "metadata": {
    "colab": {
     "base_uri": "https://localhost:8080/",
     "height": 34
    },
    "colab_type": "code",
    "executionInfo": {
     "elapsed": 1049,
     "status": "ok",
     "timestamp": 1566407149721,
     "user": {
      "displayName": "Santi Bacat",
      "photoUrl": "https://lh3.googleusercontent.com/a-/AAuE7mA4y-9VrWAAh_CxZbKozOMT9SBBhO024HQAJHn0g4g=s64",
      "userId": "17646288971276982559"
     },
     "user_tz": -120
    },
    "id": "EbfZVdRuItDo",
    "outputId": "62d4e498-dbe0-446d-c4f3-19173f8c1f74"
   },
   "outputs": [
    {
     "name": "stdout",
     "output_type": "stream",
     "text": [
      "Brian's mother\n",
      "Brian's\n",
      " house\n"
     ]
    }
   ],
   "source": [
    "print(\"Brian\\'s mother\")\n",
    "# Print special characters: use \\ before\n",
    "print(\"Brian\\'s\\n house\")"
   ]
  },
  {
   "cell_type": "markdown",
   "metadata": {},
   "source": [
    "Strings are really _char lists_:\n",
    "\n",
    "* `len` = length\n",
    "* `string.replace(word, another)` = replace one word for another\n",
    "* `string[start:end:step]` = char indexing"
   ]
  },
  {
   "cell_type": "code",
   "execution_count": 30,
   "metadata": {},
   "outputs": [
    {
     "name": "stdout",
     "output_type": "stream",
     "text": [
      "11\n",
      "Hello test\n",
      "ello w\n"
     ]
    }
   ],
   "source": [
    "s = 'Hello world'\n",
    "print(len(s))\n",
    "print(s.replace('world', 'test'))\n",
    "print(s[1:7:1])"
   ]
  },
  {
   "cell_type": "markdown",
   "metadata": {},
   "source": [
    "### STRING METHODS"
   ]
  },
  {
   "cell_type": "markdown",
   "metadata": {},
   "source": [
    "ASDFAJ"
   ]
  },
  {
   "cell_type": "markdown",
   "metadata": {
    "colab_type": "text",
    "id": "JbUz9EXTJL6c"
   },
   "source": [
    "### USER INPUT"
   ]
  },
  {
   "cell_type": "code",
   "execution_count": 5,
   "metadata": {
    "colab": {
     "base_uri": "https://localhost:8080/",
     "height": 50
    },
    "colab_type": "code",
    "executionInfo": {
     "elapsed": 4780,
     "status": "ok",
     "timestamp": 1566411218488,
     "user": {
      "displayName": "Santi Bacat",
      "photoUrl": "https://lh3.googleusercontent.com/a-/AAuE7mA4y-9VrWAAh_CxZbKozOMT9SBBhO024HQAJHn0g4g=s64",
      "userId": "17646288971276982559"
     },
     "user_tz": -120
    },
    "id": "q_h0GzwCYe2Z",
    "outputId": "9d3eef54-833d-48ad-c1af-4f3b3b516985"
   },
   "outputs": [
    {
     "name": "stdin",
     "output_type": "stream",
     "text": [
      "Write something:  HELLO\n"
     ]
    },
    {
     "data": {
      "text/plain": [
       "'HELLO'"
      ]
     },
     "execution_count": 5,
     "metadata": {},
     "output_type": "execute_result"
    }
   ],
   "source": [
    "input(\"Write something: \")"
   ]
  },
  {
   "cell_type": "markdown",
   "metadata": {
    "colab_type": "text",
    "id": "-_YqeL66kP9Z"
   },
   "source": [
    "### STRING FORMATTING"
   ]
  },
  {
   "cell_type": "code",
   "execution_count": 6,
   "metadata": {
    "colab": {},
    "colab_type": "code",
    "id": "ne9fwazfF5QM"
   },
   "outputs": [
    {
     "name": "stdout",
     "output_type": "stream",
     "text": [
      "str1 str2\n",
      "str1str2\n",
      "price = 3.14\n",
      "price = 3.14\n"
     ]
    }
   ],
   "source": [
    "print('str1','str2') #  with space\n",
    "print('str1'+'str2') # without space\n",
    "print('price = %.2f' % 3.14) # string format\n",
    "print('price = {0}'.format(3.14)) # string format2"
   ]
  },
  {
   "cell_type": "code",
   "execution_count": 13,
   "metadata": {
    "colab": {
     "base_uri": "https://localhost:8080/",
     "height": 50
    },
    "colab_type": "code",
    "executionInfo": {
     "elapsed": 1344,
     "status": "ok",
     "timestamp": 1566414436993,
     "user": {
      "displayName": "Santi Bacat",
      "photoUrl": "https://lh3.googleusercontent.com/a-/AAuE7mA4y-9VrWAAh_CxZbKozOMT9SBBhO024HQAJHn0g4g=s64",
      "userId": "17646288971276982559"
     },
     "user_tz": -120
    },
    "id": "t1m3vcWRYkqd",
    "outputId": "14d20a70-13ba-4c5f-b299-018889498b0a"
   },
   "outputs": [
    {
     "name": "stdout",
     "output_type": "stream",
     "text": [
      "Numbers: 4, 5, 6\n",
      "Numbers: 4, 5, 6\n",
      "Numbers: 4, 5, 6\n"
     ]
    }
   ],
   "source": [
    "# Old way using string.format:\n",
    "nums = [4,5,6]\n",
    "print(\"Numbers: {0}, {1}, {2}\".format(nums[0], nums[1], nums[2]))\n",
    "print(\"Numbers: %i, %i, %i\" % (nums[0], nums[1], nums[2]))\n",
    "\n",
    "# New way using f before string (string format 3)\n",
    "print(f\"Numbers: {nums[0]}, {nums[1]}, {nums[2]}\")"
   ]
  },
  {
   "cell_type": "markdown",
   "metadata": {
    "colab_type": "text",
    "id": "uqf30m_hxmKy"
   },
   "source": [
    "# VARIABLES"
   ]
  },
  {
   "cell_type": "markdown",
   "metadata": {
    "colab_type": "text",
    "id": "OT1s9_44YMae"
   },
   "source": [
    "* Python variables are muteable and don't need to be declared (don't have defined type, can dinamically change <-> int, float, string...\n",
    "* Delete a variable `del. Eg: `del foo`\n",
    "* Case-sensitive (hi != Hi). Don't use UpperFirst (use upperLater). Separate with \"_\". No special chars (ñ, ç, €)."
   ]
  },
  {
   "cell_type": "code",
   "execution_count": 14,
   "metadata": {
    "colab": {
     "base_uri": "https://localhost:8080/",
     "height": 34
    },
    "colab_type": "code",
    "executionInfo": {
     "elapsed": 381,
     "status": "ok",
     "timestamp": 1552928213466,
     "user": {
      "displayName": "Santi Bacat",
      "photoUrl": "https://lh4.googleusercontent.com/-cjfFoo4Yui8/AAAAAAAAAAI/AAAAAAAAeQU/qjSA2IZGFng/s64/photo.jpg",
      "userId": "17646288971276982559"
     },
     "user_tz": -60
    },
    "id": "PvSYKPWGuWYP",
    "outputId": "282c36fa-365f-48fc-8164-9ed397e5b15f"
   },
   "outputs": [
    {
     "name": "stdout",
     "output_type": "stream",
     "text": [
      "Hello, santi! You've got 13.8 new dollars\n"
     ]
    }
   ],
   "source": [
    "name = \"santi\"\n",
    "money = 13.753453\n",
    "print(\"Hello, %s! You've got %3.1f new dollars\" % (name, money))"
   ]
  },
  {
   "cell_type": "markdown",
   "metadata": {
    "colab_type": "text",
    "id": "akzcAV0ttB8K"
   },
   "source": [
    "## STORAGE"
   ]
  },
  {
   "cell_type": "markdown",
   "metadata": {},
   "source": [
    "* List []\n",
    "* Dictionary {}\n",
    "* Tuple ()\n",
    "    * namedTuple\n",
    "\n",
    "\n",
    "* Set ()\n",
    "* \n"
   ]
  },
  {
   "cell_type": "markdown",
   "metadata": {},
   "source": [
    "### LISTS [ ]"
   ]
  },
  {
   "cell_type": "code",
   "execution_count": null,
   "metadata": {
    "colab": {},
    "colab_type": "code",
    "id": "9z6doYUXtB8M"
   },
   "outputs": [],
   "source": [
    "l = [] # crea una lista\n",
    "l.append(\"a\") # añade un elemento\n",
    "l[1] = 'p' # modifica el segundo elemento\n",
    "l.insert(0,'i') # inserta un elemento en un indice determinado (aqui, el primero)\n",
    "l.remove(\"a\") # elimina un elemento por su CONTENIDO\n",
    "del l[7] # elimina un elemento por su INDICE\n",
    "sorted(l) # ordena la lista alfabeticamente\n",
    "l.extend(l2) # añade los valores de la lista l2 a la lista l\n",
    "len(l) # longitud de la lista"
   ]
  },
  {
   "cell_type": "code",
   "execution_count": null,
   "metadata": {
    "colab": {},
    "colab_type": "code",
    "id": "y74o3_Cavih8"
   },
   "outputs": [],
   "source": [
    "l[-2] coge el PENULTIMO valor\n",
    "len(hola.split()) # contar palabras de una fase"
   ]
  },
  {
   "cell_type": "code",
   "execution_count": null,
   "metadata": {
    "colab": {},
    "colab_type": "code",
    "id": "n8RXOSTZv2Lu"
   },
   "outputs": [],
   "source": [
    "#Para UNIR una lista\n",
    "print \"\".join(unir) # une con espacio\n",
    "print \".\".join(unir) # los une con punto"
   ]
  },
  {
   "cell_type": "markdown",
   "metadata": {
    "colab_type": "text",
    "id": "Kpv09_O-dFIR"
   },
   "source": [
    "\n",
    "* Can mix different types\n",
    "* Can be nested within other lists (multidimensional), better use numpy\n",
    "* Useful functions: max/min(list), list.count/remove/reverse()\n",
    "* REMEMBER: First item is list[0] (!= list[1])"
   ]
  },
  {
   "cell_type": "code",
   "execution_count": null,
   "metadata": {
    "colab": {
     "base_uri": "https://localhost:8080/",
     "height": 50
    },
    "colab_type": "code",
    "executionInfo": {
     "elapsed": 682,
     "status": "ok",
     "timestamp": 1566412538623,
     "user": {
      "displayName": "Santi Bacat",
      "photoUrl": "https://lh3.googleusercontent.com/a-/AAuE7mA4y-9VrWAAh_CxZbKozOMT9SBBhO024HQAJHn0g4g=s64",
      "userId": "17646288971276982559"
     },
     "user_tz": -120
    },
    "id": "7ZRewC9PdHe9",
    "outputId": "94f25427-369d-4c22-8c24-49c9a0220fe6"
   },
   "outputs": [
    {
     "name": "stdout",
     "output_type": "stream",
     "text": [
      "False\n",
      "['spam', 'eggs', 'middle', 'last']\n"
     ]
    }
   ],
   "source": [
    "words = [\"spam\", \"eggs\"]\n",
    "\n",
    "# Check pertenence: word in words\n",
    "print(not \"spam\" in words)\n",
    "\n",
    "# Add new iem at the end\n",
    "words.append(\"last\")\n",
    "# Can't iterate on an empty list, ilke in a for loop --> list[i]. \n",
    "# You must fill it first (not [], but [0]*100 p.e.)\n",
    "words.insert(2, \"middle\") # Adds item in position #2\n",
    "print(words)\n",
    "\n"
   ]
  },
  {
   "cell_type": "code",
   "execution_count": 33,
   "metadata": {
    "colab": {},
    "colab_type": "code",
    "id": "3YQPJOpAeS3P"
   },
   "outputs": [
    {
     "name": "stdout",
     "output_type": "stream",
     "text": [
      "[0, 1, 2, 3, 4, 5, 6, 7, 8, 9]\n",
      "range(0, 10)\n"
     ]
    }
   ],
   "source": [
    "# For range creation, need to convert to list. Otherwise returns range object.\n",
    "# range(first, last, interval), REMEMBER STARTS ON 0\n",
    "print(list(range(10)))\n",
    "print(range(10))"
   ]
  },
  {
   "cell_type": "markdown",
   "metadata": {
    "colab_type": "text",
    "id": "Hpupm6DGjybx"
   },
   "source": [
    "__List Slices__\n",
    "\n",
    "* list[start:stop:step]\n",
    "* list[::-1] reverses a list\n",
    "\n",
    "__List comprehensions__\n",
    "\n"
   ]
  },
  {
   "cell_type": "code",
   "execution_count": null,
   "metadata": {
    "colab": {},
    "colab_type": "code",
    "id": "zGCsUhK7lBAa"
   },
   "outputs": [],
   "source": [
    "evens = [i**2 for i in range(10) if i**2 % 2 = 0]\n",
    "print(evens)"
   ]
  },
  {
   "cell_type": "markdown",
   "metadata": {
    "colab_type": "text",
    "id": "NYSCA6SHtB8R"
   },
   "source": [
    "### TUPLES ( )\n",
    "\n",
    "son como listas pero inmutables"
   ]
  },
  {
   "cell_type": "markdown",
   "metadata": {
    "colab_type": "text",
    "id": "zu_pVor4jiwN"
   },
   "source": [
    "* Immutable lists. Created with or without ()\n",
    "* Useful for switching: a, b = b, a\n"
   ]
  },
  {
   "cell_type": "code",
   "execution_count": null,
   "metadata": {
    "colab": {},
    "colab_type": "code",
    "id": "73CY9mtitB8T",
    "outputId": "b1bed7a3-794e-4d20-b8c7-0bf2d47ebbb9"
   },
   "outputs": [
    {
     "ename": "TypeError",
     "evalue": "'tuple' object does not support item assignment",
     "output_type": "error",
     "traceback": [
      "\u001b[0;31m---------------------------------------------------------------------------\u001b[0m",
      "\u001b[0;31mTypeError\u001b[0m                                 Traceback (most recent call last)",
      "\u001b[0;32m<ipython-input-2-83e607a374fc>\u001b[0m in \u001b[0;36m<module>\u001b[0;34m\u001b[0m\n\u001b[1;32m      1\u001b[0m \u001b[0mpoint\u001b[0m \u001b[0;34m=\u001b[0m \u001b[0;34m(\u001b[0m\u001b[0;36m10\u001b[0m\u001b[0;34m,\u001b[0m \u001b[0;36m20\u001b[0m\u001b[0;34m)\u001b[0m \u001b[0;31m# con parentesis\u001b[0m\u001b[0;34m\u001b[0m\u001b[0m\n\u001b[0;32m----> 2\u001b[0;31m \u001b[0mpoint\u001b[0m\u001b[0;34m[\u001b[0m\u001b[0;36m0\u001b[0m\u001b[0;34m]\u001b[0m \u001b[0;34m=\u001b[0m \u001b[0;36m40\u001b[0m \u001b[0;31m# dará error\u001b[0m\u001b[0;34m\u001b[0m\u001b[0m\n\u001b[0m",
      "\u001b[0;31mTypeError\u001b[0m: 'tuple' object does not support item assignment"
     ]
    }
   ],
   "source": [
    "point = (10, 20) # con parentesis\n",
    "point[0] = 40 # dará error"
   ]
  },
  {
   "cell_type": "markdown",
   "metadata": {
    "colab_type": "text",
    "id": "dkNFQrZAtB8a"
   },
   "source": [
    "### DICTIONARY { }\n",
    "\n",
    "Diccionarios: son listas que guardan los elementos como pares indice-valor (key-value)"
   ]
  },
  {
   "cell_type": "code",
   "execution_count": null,
   "metadata": {
    "colab": {},
    "colab_type": "code",
    "id": "9kgASMPOtB8e"
   },
   "outputs": [],
   "source": [
    "params = {'nombre': 'Will', 'apellido':'Smith'} # se crea con corchetes\n",
    "params['direccion'] = 'Calle Mayor' # añade un nuevo elemento"
   ]
  },
  {
   "cell_type": "markdown",
   "metadata": {
    "colab_type": "text",
    "id": "VfGGN6itixGt"
   },
   "source": [
    "* Used as key:value mappings\n",
    "* Can use dict.keys(), dict.values(), dict.\n",
    "* As in lists, can use __in__ and __not in__.\n",
    "* __dict.get()__ to see if key is in dict; otherwise returns specified value.\n"
   ]
  },
  {
   "cell_type": "code",
   "execution_count": null,
   "metadata": {
    "colab": {},
    "colab_type": "code",
    "id": "nYrk2Rkji5D-"
   },
   "outputs": [],
   "source": [
    "ages = {\"Dave\": 24, \"John\": 13}"
   ]
  },
  {
   "cell_type": "markdown",
   "metadata": {
    "colab_type": "text",
    "id": "L-KNI2gttB8j"
   },
   "source": [
    "## ITERATION"
   ]
  },
  {
   "cell_type": "markdown",
   "metadata": {
    "colab_type": "text",
    "id": "Y2tfNbj__OXA"
   },
   "source": [
    "### if-else-elif"
   ]
  },
  {
   "cell_type": "markdown",
   "metadata": {
    "colab_type": "text",
    "id": "BAlCOoX4_Q0z"
   },
   "source": [
    "Require indentation (!= C++)\n",
    "\n",
    "```python\n",
    "statement1 = False\n",
    "statement2 = False\n",
    "\n",
    "if statement1:\n",
    "    print(\"statement1 is True\")\n",
    "    \n",
    "elif statement2: #aamw as else if\n",
    "    print(\"statement2 is True\")\n",
    "    \n",
    "else:\n",
    "    print(\"statement1 and statement2 are False\")\n",
    "```"
   ]
  },
  {
   "cell_type": "code",
   "execution_count": 35,
   "metadata": {
    "colab": {},
    "colab_type": "code",
    "id": "c_GoWv17_UNS"
   },
   "outputs": [
    {
     "name": "stdout",
     "output_type": "stream",
     "text": [
      "medium\n"
     ]
    }
   ],
   "source": [
    "n = 3\n",
    "if n <2:\n",
    "  print(\"small\") # indentation\n",
    "elif n < 4:\n",
    "  print(\"medium\")\n",
    "else:\n",
    "  print(\"big\")"
   ]
  },
  {
   "cell_type": "code",
   "execution_count": 43,
   "metadata": {},
   "outputs": [
    {
     "name": "stdout",
     "output_type": "stream",
     "text": [
      "small\n"
     ]
    }
   ],
   "source": [
    "# one-line short-if\n",
    "print(\"small\") if n<4 else print(\"big\")"
   ]
  },
  {
   "cell_type": "markdown",
   "metadata": {
    "colab_type": "text",
    "id": "B-mdoUZKbfEa"
   },
   "source": [
    "### While"
   ]
  },
  {
   "cell_type": "markdown",
   "metadata": {
    "colab_type": "text",
    "id": "TneuCJs4bjA_"
   },
   "source": [
    "* To end a while loop prematurely, use a __break__ statement.\n",
    "* To go to the beginning of the loop, __continue__ (in a next iteration)\n",
    "* To stop manually, ctrl-c\n",
    "* Infinite loop: `while True:`"
   ]
  },
  {
   "cell_type": "code",
   "execution_count": 8,
   "metadata": {
    "colab": {
     "base_uri": "https://localhost:8080/",
     "height": 102
    },
    "colab_type": "code",
    "executionInfo": {
     "elapsed": 612,
     "status": "ok",
     "timestamp": 1568066069171,
     "user": {
      "displayName": "Santi Bacat",
      "photoUrl": "https://lh3.googleusercontent.com/a-/AAuE7mA4y-9VrWAAh_CxZbKozOMT9SBBhO024HQAJHn0g4g=s64",
      "userId": "17646288971276982559"
     },
     "user_tz": -120
    },
    "id": "6iLOsSjjbcdd",
    "outputId": "5cf2a8cc-1564-4812-9bd1-d3ceb979a0ac"
   },
   "outputs": [
    {
     "name": "stdout",
     "output_type": "stream",
     "text": [
      "1\n",
      "Skipping 2\n",
      "3\n",
      "4\n",
      "Breaking\n"
     ]
    }
   ],
   "source": [
    "i = 0\n",
    "while True:\n",
    "   i = i +1\n",
    "   if i == 2:\n",
    "      print(\"Skipping 2\")\n",
    "      continue\n",
    "   if i == 5:\n",
    "      print(\"Breaking\")\n",
    "      break\n",
    "   print(i)"
   ]
  },
  {
   "cell_type": "markdown",
   "metadata": {
    "colab_type": "text",
    "id": "bOVJyByAtB8q"
   },
   "source": [
    "### For loops: \n",
    "\n",
    "recuerda que al iterar, el rango no contiene el ultimo valor\n",
    "\n",
    "range(from, to, by) con el to NO incluido"
   ]
  },
  {
   "cell_type": "code",
   "execution_count": null,
   "metadata": {
    "colab": {},
    "colab_type": "code",
    "id": "RRfmxP76tB8s"
   },
   "outputs": [],
   "source": [
    "range(4) # dara 0, 1, 2, 3\n",
    "range(-3,3) # dara -3, -2 ... 1, 2\n",
    "\n",
    "l1 = [x**2 for x in range(0,5)]\n",
    "# forma compacta de un for loop, igual a:\n",
    "for x in range(0,5):\n",
    "    x**2"
   ]
  },
  {
   "cell_type": "markdown",
   "metadata": {
    "colab_type": "text",
    "id": "8gF_ONmrtB8y"
   },
   "source": [
    "Para iterar en key-value de un diccionario (dos formas)"
   ]
  },
  {
   "cell_type": "code",
   "execution_count": 46,
   "metadata": {
    "colab": {},
    "colab_type": "code",
    "id": "VXCOhIBLtB81"
   },
   "outputs": [
    {
     "ename": "NameError",
     "evalue": "name 'params' is not defined",
     "output_type": "error",
     "traceback": [
      "\u001b[0;31m---------------------------------------------------------------------------\u001b[0m",
      "\u001b[0;31mNameError\u001b[0m                                 Traceback (most recent call last)",
      "\u001b[0;32m<ipython-input-46-24c71bc069e7>\u001b[0m in \u001b[0;36m<module>\u001b[0;34m\u001b[0m\n\u001b[0;32m----> 1\u001b[0;31m \u001b[0;32mfor\u001b[0m \u001b[0mkey\u001b[0m\u001b[0;34m,\u001b[0m \u001b[0mvalue\u001b[0m \u001b[0;32min\u001b[0m \u001b[0mparams\u001b[0m\u001b[0;34m.\u001b[0m\u001b[0mitems\u001b[0m\u001b[0;34m(\u001b[0m\u001b[0;34m)\u001b[0m\u001b[0;34m:\u001b[0m\u001b[0;34m\u001b[0m\u001b[0;34m\u001b[0m\u001b[0m\n\u001b[0m\u001b[1;32m      2\u001b[0m     \u001b[0mprint\u001b[0m\u001b[0;34m(\u001b[0m\u001b[0mkey\u001b[0m \u001b[0;34m+\u001b[0m \u001b[0;34m\" = \"\u001b[0m \u001b[0;34m+\u001b[0m \u001b[0mstr\u001b[0m\u001b[0;34m(\u001b[0m\u001b[0mvalue\u001b[0m\u001b[0;34m)\u001b[0m\u001b[0;34m)\u001b[0m\u001b[0;34m\u001b[0m\u001b[0;34m\u001b[0m\u001b[0m\n\u001b[1;32m      3\u001b[0m \u001b[0;34m\u001b[0m\u001b[0m\n\u001b[1;32m      4\u001b[0m \u001b[0;32mfor\u001b[0m \u001b[0midx\u001b[0m\u001b[0;34m,\u001b[0m \u001b[0mx\u001b[0m \u001b[0;32min\u001b[0m \u001b[0menumerate\u001b[0m\u001b[0;34m(\u001b[0m\u001b[0mrange\u001b[0m\u001b[0;34m(\u001b[0m\u001b[0;34m-\u001b[0m\u001b[0;36m3\u001b[0m\u001b[0;34m,\u001b[0m\u001b[0;36m3\u001b[0m\u001b[0;34m)\u001b[0m\u001b[0;34m)\u001b[0m\u001b[0;34m:\u001b[0m\u001b[0;34m\u001b[0m\u001b[0;34m\u001b[0m\u001b[0m\n\u001b[1;32m      5\u001b[0m     \u001b[0mprint\u001b[0m\u001b[0;34m(\u001b[0m\u001b[0midx\u001b[0m\u001b[0;34m,\u001b[0m \u001b[0mx\u001b[0m\u001b[0;34m)\u001b[0m\u001b[0;34m\u001b[0m\u001b[0;34m\u001b[0m\u001b[0m\n",
      "\u001b[0;31mNameError\u001b[0m: name 'params' is not defined"
     ]
    }
   ],
   "source": [
    "for key, value in params.items():\n",
    "    print(key + \" = \" + str(value))\n",
    "\n",
    "for idx, x in enumerate(range(-3,3)):\n",
    "    print(idx, x) \n",
    "    # con ello usamos el indice de iteración (idx = 0, 1, 2...)"
   ]
  },
  {
   "cell_type": "markdown",
   "metadata": {
    "colab_type": "text",
    "id": "ovhvm3Djyg8v"
   },
   "source": [
    "Enumerate es la forma más sencilla de iterar en listas, con dos valores: el índice de iteración y el valor en sí:"
   ]
  },
  {
   "cell_type": "code",
   "execution_count": null,
   "metadata": {
    "colab": {
     "base_uri": "https://localhost:8080/",
     "height": 85
    },
    "colab_type": "code",
    "executionInfo": {
     "elapsed": 2108,
     "status": "ok",
     "timestamp": 1552929190643,
     "user": {
      "displayName": "Santi Bacat",
      "photoUrl": "https://lh4.googleusercontent.com/-cjfFoo4Yui8/AAAAAAAAAAI/AAAAAAAAeQU/qjSA2IZGFng/s64/photo.jpg",
      "userId": "17646288971276982559"
     },
     "user_tz": -60
    },
    "id": "Cou8DeezymP8",
    "outputId": "88452ce8-80a2-48db-a505-275cf25772f8"
   },
   "outputs": [
    {
     "name": "stdout",
     "output_type": "stream",
     "text": [
      "0 Kraken\n",
      "1 Leviathan\n",
      "2 Uroborus\n",
      "3 Hydra\n"
     ]
    }
   ],
   "source": [
    "monsters = ['Kraken', 'Leviathan', 'Uroborus', 'Hydra']\n",
    "\n",
    "for i, monster in enumerate(monsters):\n",
    "  print(i, monster)"
   ]
  },
  {
   "cell_type": "markdown",
   "metadata": {
    "colab_type": "text",
    "id": "QTe1GGdEZLbD"
   },
   "source": [
    "## CONDITIONALS\n",
    "\n",
    "**BOOLEAN OPERATORS**\n",
    "\n",
    "* and (only true if all true) `&&`\n",
    "* or (true if any true) `||`\n",
    "* not (true if false) `!=`\n",
    "* operator precedence\n",
    "  * ** > complement > */%// > +- > boolean\n",
    "  \n",
    "![](https://api.sololearn.com/DownloadFile?id=3515)\n",
    "\n",
    "\n"
   ]
  },
  {
   "cell_type": "code",
   "execution_count": 45,
   "metadata": {},
   "outputs": [
    {
     "ename": "SyntaxError",
     "evalue": "invalid syntax (<ipython-input-45-29548059d031>, line 1)",
     "output_type": "error",
     "traceback": [
      "\u001b[0;36m  File \u001b[0;32m\"<ipython-input-45-29548059d031>\"\u001b[0;36m, line \u001b[0;32m1\u001b[0m\n\u001b[0;31m    Si comparamos dos strings con > o < se comparan por diccionario\u001b[0m\n\u001b[0m                ^\u001b[0m\n\u001b[0;31mSyntaxError\u001b[0m\u001b[0;31m:\u001b[0m invalid syntax\n"
     ]
    }
   ],
   "source": [
    "Si comparamos dos strings con > o < se comparan por diccionario\n",
    "\n",
    "\n",
    "s1 = \"Jennifer\"\n",
    "s2 = \"Python\"\n",
    "\n",
    "print (s1 > s2) # True -> since 'Jennifer' comes lexographically before 'Python'\n",
    "\n",
    "# Checking if list is empty\n",
    "l1 = []\n",
    "l2 = [\"Jennifer\"]\n",
    "\n",
    "if l1:\n",
    "    print (1)\n",
    "elif l2:\n",
    "    print (2)"
   ]
  },
  {
   "cell_type": "markdown",
   "metadata": {
    "colab_type": "text",
    "id": "rPW1rtU4tB85"
   },
   "source": [
    "## Funciones\n",
    "\n",
    ": aconsejable definir 'docstring' (descripción)"
   ]
  },
  {
   "cell_type": "code",
   "execution_count": null,
   "metadata": {
    "colab": {},
    "colab_type": "code",
    "id": "7aaWNJ-VtB86"
   },
   "outputs": [],
   "source": [
    "def square(x, debug=False):\n",
    "    \"\"\"\n",
    "    Devuelve el cuadrado de un numero\n",
    "    \"\"\"\n",
    "    # aqui debug sería una variable con un valor por defecto\n",
    "    return x**2\n",
    "    pass # no hace nada"
   ]
  },
  {
   "cell_type": "markdown",
   "metadata": {
    "colab_type": "text",
    "id": "RyQkjncTtB8_"
   },
   "source": [
    "### Lambda functions:"
   ]
  },
  {
   "cell_type": "code",
   "execution_count": null,
   "metadata": {
    "colab": {},
    "colab_type": "code",
    "id": "bbdzmMtMtB9B"
   },
   "outputs": [],
   "source": [
    "f1 = lambda x: x**2\n",
    "\n",
    "# es igual que\n",
    "\n",
    "def f2(x):\n",
    "    return x**2"
   ]
  },
  {
   "cell_type": "markdown",
   "metadata": {
    "colab_type": "text",
    "id": "ikt6Y_kItB9F"
   },
   "source": [
    "Podemos 'mapear' una funcion como argumento de otra:"
   ]
  },
  {
   "cell_type": "code",
   "execution_count": null,
   "metadata": {
    "colab": {},
    "colab_type": "code",
    "id": "Id4gdC4dtB9G"
   },
   "outputs": [],
   "source": [
    "map(lambda x: x**2, range(-3,4))\n",
    "# Devuelve [9, 4, 1, 0, 1, 4, 9]"
   ]
  },
  {
   "cell_type": "markdown",
   "metadata": {
    "colab_type": "text",
    "id": "b-TM6povemXB"
   },
   "source": [
    "## EXCEPTIONS"
   ]
  },
  {
   "cell_type": "markdown",
   "metadata": {
    "colab_type": "text",
    "id": "pNJExHtAtB9L"
   },
   "source": [
    "Crear errores:"
   ]
  },
  {
   "cell_type": "code",
   "execution_count": null,
   "metadata": {
    "colab": {},
    "colab_type": "code",
    "id": "_kDWrCcqtB9N",
    "outputId": "fc535157-2ac9-451b-ecd9-36017fe81d6d"
   },
   "outputs": [
    {
     "ename": "Exception",
     "evalue": "Descripción del error",
     "output_type": "error",
     "traceback": [
      "\u001b[0;31m---------------------------------------------------------------------------\u001b[0m",
      "\u001b[0;31mException\u001b[0m                                 Traceback (most recent call last)",
      "\u001b[0;32m<ipython-input-4-de58dac3e45d>\u001b[0m in \u001b[0;36m<module>\u001b[0;34m\u001b[0m\n\u001b[0;32m----> 1\u001b[0;31m \u001b[0;32mraise\u001b[0m \u001b[0mException\u001b[0m\u001b[0;34m(\u001b[0m\u001b[0;34m\"Descripción del error\"\u001b[0m\u001b[0;34m)\u001b[0m\u001b[0;34m\u001b[0m\u001b[0m\n\u001b[0m",
      "\u001b[0;31mException\u001b[0m: Descripción del error"
     ]
    }
   ],
   "source": [
    "raise Exception(\"Descripción del error\")"
   ]
  },
  {
   "cell_type": "markdown",
   "metadata": {
    "colab_type": "text",
    "id": "r4cFxNeVtB9W"
   },
   "source": [
    "Tambien puede, al crearse el codigo, crearlo con dos vias (buena y mala):"
   ]
  },
  {
   "cell_type": "code",
   "execution_count": null,
   "metadata": {
    "colab": {},
    "colab_type": "code",
    "id": "ALl6adJbtB9Y"
   },
   "outputs": [],
   "source": [
    "try:\n",
    "    print('Va bien')\n",
    "except:\n",
    "    print('No va bien')\n",
    "    # lo de except se ejecuta si hay algun error"
   ]
  },
  {
   "cell_type": "markdown",
   "metadata": {
    "colab_type": "text",
    "id": "PSj6y6Ufer0X"
   },
   "source": [
    "* Use __try__ blocks to contain the code\n",
    "* Use __except__ block for the code if exception occurs\n",
    "+ Use __finally__ for code that will run anyway at the end of the try block\n",
    "* Exceptions: ZeroDivisionError, ValueError,\n",
    "* You can raise your own exceptions with __raise__ Eg.: raise valueError\n",
    "* __assert__ checks if a statement is True; otherwise gives AssertionError.\n",
    "* Is useful for checking functions do what you want to do"
   ]
  },
  {
   "cell_type": "code",
   "execution_count": null,
   "metadata": {
    "colab": {
     "base_uri": "https://localhost:8080/",
     "height": 246
    },
    "colab_type": "code",
    "executionInfo": {
     "elapsed": 447,
     "status": "error",
     "timestamp": 1566413186454,
     "user": {
      "displayName": "Santi Bacat",
      "photoUrl": "https://lh3.googleusercontent.com/a-/AAuE7mA4y-9VrWAAh_CxZbKozOMT9SBBhO024HQAJHn0g4g=s64",
      "userId": "17646288971276982559"
     },
     "user_tz": -120
    },
    "id": "h9MB5194epM7",
    "outputId": "1830e55a-a3a5-412d-98c4-5d7a3c055776"
   },
   "outputs": [
    {
     "name": "stdout",
     "output_type": "stream",
     "text": [
      "Hello\n",
      "Divided by zero\n",
      "Final code\n"
     ]
    },
    {
     "ename": "ValueError",
     "evalue": "ignored",
     "output_type": "error",
     "traceback": [
      "\u001b[0;31m---------------------------------------------------------------------------\u001b[0m",
      "\u001b[0;31mValueError\u001b[0m                                Traceback (most recent call last)",
      "\u001b[0;32m<ipython-input-22-6fdd4ab86db1>\u001b[0m in \u001b[0;36m<module>\u001b[0;34m()\u001b[0m\n\u001b[1;32m      7\u001b[0m   \u001b[0mprint\u001b[0m\u001b[0;34m(\u001b[0m\u001b[0;34m\"Final code\"\u001b[0m\u001b[0;34m)\u001b[0m\u001b[0;34m\u001b[0m\u001b[0;34m\u001b[0m\u001b[0m\n\u001b[1;32m      8\u001b[0m   \u001b[0;32massert\u001b[0m \u001b[0;36m2\u001b[0m\u001b[0;34m+\u001b[0m\u001b[0;36m2\u001b[0m\u001b[0;34m==\u001b[0m\u001b[0;36m4\u001b[0m\u001b[0;34m\u001b[0m\u001b[0;34m\u001b[0m\u001b[0m\n\u001b[0;32m----> 9\u001b[0;31m   \u001b[0;32mraise\u001b[0m \u001b[0mValueError\u001b[0m\u001b[0;34m\u001b[0m\u001b[0;34m\u001b[0m\u001b[0m\n\u001b[0m",
      "\u001b[0;31mValueError\u001b[0m: "
     ]
    }
   ],
   "source": [
    "try:\n",
    "  print(\"Hello\")\n",
    "  print(1/0)\n",
    "except ZeroDivisionError:\n",
    "  print(\"Divided by zero\")\n",
    "finally:\n",
    "  print(\"Final code\")\n",
    "  assert 2+2==4\n",
    "  raise ValueError"
   ]
  },
  {
   "cell_type": "markdown",
   "metadata": {
    "colab_type": "text",
    "id": "d-tXvRHAtB9c"
   },
   "source": [
    "## Clases (OOP)\n",
    "\n",
    "hay que crear primero la clase"
   ]
  },
  {
   "cell_type": "code",
   "execution_count": null,
   "metadata": {
    "colab": {},
    "colab_type": "code",
    "id": "0-i7mNTCtB9d"
   },
   "outputs": [],
   "source": [
    "class Point:\n",
    "    \"\"\"\n",
    "    Simple class for representing a point in a Cartesian coordinate system.\n",
    "    \"\"\"\n",
    "    \n",
    "    def __init__(self, x, y):\n",
    "        \"\"\"\n",
    "        Create a new Point at x, y.\n",
    "        \"\"\"\n",
    "        self.x = x\n",
    "        self.y = y\n",
    "        \n",
    "    def translate(self, dx, dy):\n",
    "        \"\"\"\n",
    "        Translate the point by dx and dy in the x and y direction.\n",
    "        \"\"\"\n",
    "        self.x += dx\n",
    "        self.y += dy\n",
    "        \n",
    "    def __str__(self):\n",
    "        return(\"Point at [%f, %f]\" % (self.x, self.y))"
   ]
  },
  {
   "cell_type": "markdown",
   "metadata": {
    "colab_type": "text",
    "id": "Qfbe3NG_tB9k"
   },
   "source": [
    "Y luego la instancia de clase:"
   ]
  },
  {
   "cell_type": "code",
   "execution_count": null,
   "metadata": {
    "colab": {},
    "colab_type": "code",
    "id": "jxVP-l_mtB9m"
   },
   "outputs": [],
   "source": [
    "p1 = Point(0, 0) # this will invoke the __init__ method in the Point class\n",
    "print(p1)         # this will invoke the __str__ method\n",
    "p1.translate(0.25, 1.5)"
   ]
  },
  {
   "cell_type": "markdown",
   "metadata": {
    "colab_type": "text",
    "id": "cC482HgagJzc"
   },
   "source": [
    "### FILE PROCESSING"
   ]
  },
  {
   "cell_type": "code",
   "execution_count": null,
   "metadata": {
    "colab": {},
    "colab_type": "code",
    "id": "SPmCuAYof4eL"
   },
   "outputs": [],
   "source": [
    "file = open(\"filename.txt\", \"w\") #w = write mode, r = read , \"wb\" = binary mode\n",
    "file.read(20) # reads 20 lines\n",
    "file.close() # always need to close the file\n",
    "\n",
    "# Good practise when working with files, to close always at the end to free mem\n",
    "try:\n",
    "  f = open(\"filename.txt\")\n",
    "  print(f.read())\n",
    "finally:\n",
    "  f.close()\n",
    "\n",
    "# Even better (when with block finishes, file is closed\n",
    ")\n",
    "with open(\"filename.txt\") as f:\n",
    "  print(f.read())"
   ]
  },
  {
   "cell_type": "code",
   "execution_count": null,
   "metadata": {
    "colab": {},
    "colab_type": "code",
    "id": "QQtGiuLttQ0l"
   },
   "outputs": [],
   "source": []
  },
  {
   "cell_type": "markdown",
   "metadata": {
    "colab_type": "text",
    "id": "LOG3xmOmtTPO"
   },
   "source": [
    "# DATA SCIENCE\n",
    "\n",
    "## NUMPY\n",
    "\n",
    "Libreria de cálculo matricial. Organiza información en arrays\n",
    "\n",
    "ndarray.ndim = rango (dimensiones)\n",
    "\n",
    ".shape = longitud de las dimensiones\n",
    "\n",
    ".size = nº total de elementos de la matriz"
   ]
  },
  {
   "cell_type": "code",
   "execution_count": null,
   "metadata": {
    "colab": {},
    "colab_type": "code",
    "id": "5dz2Z6mDtXkm"
   },
   "outputs": [],
   "source": [
    "import numpy as np\n",
    "np.array([1, 2, 3], dtype='float')\n",
    "# es lo mismo que np.ndarray"
   ]
  },
  {
   "cell_type": "markdown",
   "metadata": {
    "colab_type": "text",
    "id": "bJLW37By2Phv"
   },
   "source": [
    "Para subseleccionar (slicing)"
   ]
  },
  {
   "cell_type": "markdown",
   "metadata": {
    "colab_type": "text",
    "id": "4mQh4TBp2L29"
   },
   "source": [
    "a[desde:hasta:salto]"
   ]
  },
  {
   "cell_type": "markdown",
   "metadata": {
    "colab_type": "text",
    "id": "p6XCF95cNgMX"
   },
   "source": [
    "# iPython shell"
   ]
  },
  {
   "cell_type": "markdown",
   "metadata": {
    "colab_type": "text",
    "id": "K3evLt8uPA2H"
   },
   "source": [
    "## Basic Commands"
   ]
  },
  {
   "cell_type": "markdown",
   "metadata": {
    "colab_type": "text",
    "id": "WfNrViaPNjxe"
   },
   "source": [
    "\n",
    "* help() or ? shows information about anything\n",
    "* ?? shows even more information (source code)\n",
    "* nameobject.TAB shows object contents (autocomplete), also when importing-using variables\n",
    "* *character is Wildcard matching (matches any string)\n"
   ]
  },
  {
   "cell_type": "code",
   "execution_count": null,
   "metadata": {
    "colab": {},
    "colab_type": "code",
    "id": "nqJNOm0TQQH2"
   },
   "outputs": [],
   "source": [
    "help(len)\n",
    "len?\n",
    "len??\n",
    "len.TAB\n",
    "*Warning?"
   ]
  },
  {
   "cell_type": "markdown",
   "metadata": {
    "colab_type": "text",
    "id": "Tt-xq_dqPieD"
   },
   "source": [
    "## Magic Functions"
   ]
  },
  {
   "cell_type": "markdown",
   "metadata": {
    "colab_type": "text",
    "id": "RVB7Pr1wPhMM"
   },
   "source": [
    "* %paste --> useful when pasting code from internet\n",
    "* %cpaste --> same but multiline\n",
    "* %run --> run external code\n",
    "* %timeit --> get execution time\n",
    "* %time --> same but only for first loop (useful if first loop is harder to compute)\n",
    "* %%time --> multiline execution time (must be the first code in block)\n",
    "\n",
    "* prun --> runs code with profiler (see time for each line, to optimize code)\n",
    "* %lprun --> line-by-line profiler (must install line_profiler package)\n",
    "* %memit --> measures memory (must install memory_profiler package)\n",
    "* %mprun --> measures memory line-by-line profiler (only works for external packages .py)\n",
    "\n",
    "To get all magic functions>\n",
    "* %timeit? --> describe a magic function\n",
    "* %magic --> description of available magic functions\n",
    "* %lsmagic --> list all magic functions"
   ]
  },
  {
   "cell_type": "code",
   "execution_count": null,
   "metadata": {
    "colab": {},
    "colab_type": "code",
    "id": "JXt4IcDcRD5Q"
   },
   "outputs": [],
   "source": [
    "%cpaste\n",
    "def donothing(x):\n",
    "... return x"
   ]
  },
  {
   "cell_type": "code",
   "execution_count": null,
   "metadata": {
    "colab": {},
    "colab_type": "code",
    "id": "VNjdKrUqRjJD"
   },
   "outputs": [],
   "source": [
    "%run myscript.py"
   ]
  },
  {
   "cell_type": "code",
   "execution_count": null,
   "metadata": {
    "colab": {},
    "colab_type": "code",
    "id": "zrT0aVfMRlQO"
   },
   "outputs": [],
   "source": [
    "%timeit L = [n ** 2 for n in range(1000)]\n",
    "%time L = [n ** 2 for n in range(1000)]\n",
    "%%timeit\n",
    "L = []\n",
    "for n in range(100):\n",
    "  L.append(n**2)"
   ]
  },
  {
   "cell_type": "markdown",
   "metadata": {
    "colab_type": "text",
    "id": "y4-mlHEXS12s"
   },
   "source": [
    "To use history\n",
    "* In --> last inputs\n",
    "* Out --> last outputs\n",
    "* print(_) --> previous output (also usable: __ = _2 = Out[2])\n",
    "* %history (use: %history -n 1-n)"
   ]
  },
  {
   "cell_type": "code",
   "execution_count": null,
   "metadata": {
    "colab": {},
    "colab_type": "code",
    "id": "gbBz22PsSDjZ"
   },
   "outputs": [],
   "source": [
    "%history\n",
    "print(_)"
   ]
  },
  {
   "cell_type": "code",
   "execution_count": null,
   "metadata": {
    "colab": {
     "base_uri": "https://localhost:8080/",
     "height": 50
    },
    "colab_type": "code",
    "executionInfo": {
     "elapsed": 522,
     "status": "ok",
     "timestamp": 1566410557155,
     "user": {
      "displayName": "Santi Bacat",
      "photoUrl": "https://lh3.googleusercontent.com/a-/AAuE7mA4y-9VrWAAh_CxZbKozOMT9SBBhO024HQAJHn0g4g=s64",
      "userId": "17646288971276982559"
     },
     "user_tz": -120
    },
    "id": "6WQvJHPBV-PL",
    "outputId": "45a61f5c-4291-401b-9fcb-8559287bd24d"
   },
   "outputs": [
    {
     "name": "stdout",
     "output_type": "stream",
     "text": [
      "range(0, 10)\n",
      " "
     ]
    }
   ],
   "source": [
    "%prun print(range(10))\n",
    "\n",
    "pip install line_profiler\n",
    "%lprun -f print(range(10))\n",
    "\n",
    "pip install memory_profiler\n"
   ]
  },
  {
   "cell_type": "markdown",
   "metadata": {
    "colab_type": "text",
    "id": "1y9ELjCWTtmA"
   },
   "source": [
    "## Terminal commands"
   ]
  },
  {
   "cell_type": "markdown",
   "metadata": {
    "colab_type": "text",
    "id": "JDuCG36CTx8Y"
   },
   "source": [
    "* pwd gets current dir\n",
    "* ls lists current dir\n",
    "* cat shows inside a document (p.e. untitled.txt)\n",
    "* ! for use terminal commands in iPython\n",
    "* can't use !cd. Must use %cd or cd (%automagic function, such as cat, env, ls, man...)\n",
    "\n",
    "If you save terminal output > python special list (SList) where you can use add functs (grep, fields, s, n, p)\n",
    "\n",
    "For error debugging:\n",
    "\n",
    "* %xmode (traces errors when executing code) Eg: %xmode Plain, Context, Verbose\n",
    "* %debug\n",
    "* %pdb on (turns on automatic debugger when an exception is raised)"
   ]
  },
  {
   "cell_type": "code",
   "execution_count": null,
   "metadata": {
    "colab": {},
    "colab_type": "code",
    "id": "lNkc7aesTxUf"
   },
   "outputs": [],
   "source": [
    "# If you want to add to developing ide >> first line\n",
    "#!/usr/bin/env python\n",
    "# change character codification (default ASCII) >> second line\n",
    "# -*- coding: UTF-8 -*-"
   ]
  },
  {
   "cell_type": "code",
   "execution_count": 25,
   "metadata": {
    "colab": {},
    "colab_type": "code",
    "id": "KpG5Ne0x2T7G"
   },
   "outputs": [
    {
     "ename": "SyntaxError",
     "evalue": "invalid syntax (<ipython-input-25-da50eef9cd07>, line 1)",
     "output_type": "error",
     "traceback": [
      "\u001b[0;36m  File \u001b[0;32m\"<ipython-input-25-da50eef9cd07>\"\u001b[0;36m, line \u001b[0;32m1\u001b[0m\n\u001b[0;31m    Terminal commands\u001b[0m\n\u001b[0m                    ^\u001b[0m\n\u001b[0;31mSyntaxError\u001b[0m\u001b[0;31m:\u001b[0m invalid syntax\n"
     ]
    }
   ],
   "source": [
    "Terminal commands\n",
    "* Para listar directorios: `ls`\n",
    "* Para mostrar el interior de un documento sin abrirlo: `cat`\n",
    "* Para añadir el entorno de desarrollo a un archivo python (primera linea): `#!/usr/bin/env python`\n",
    "* Para cambiar la codificacion de caracteres (por defecto ASCII), metemos en la segunda línea del archivo python: `# -*- coding: UTF-8 -*-`"
   ]
  },
  {
   "cell_type": "markdown",
   "metadata": {
    "colab_type": "text",
    "id": "ua7gwB0FE3Ws"
   },
   "source": [
    "## Package organization"
   ]
  },
  {
   "cell_type": "markdown",
   "metadata": {
    "colab_type": "text",
    "id": "p1CUONuwE-r1"
   },
   "source": [
    "### Importing"
   ]
  },
  {
   "cell_type": "markdown",
   "metadata": {
    "colab_type": "text",
    "id": "zXOPqZeNFACs"
   },
   "source": [
    "* Package help: ```help(package)```\n",
    "* Package functions: ```dir(package)```\n",
    "\n",
    "* Import package:"
   ]
  },
  {
   "cell_type": "code",
   "execution_count": 23,
   "metadata": {
    "colab": {},
    "colab_type": "code",
    "id": "gqedcIWhFFqg"
   },
   "outputs": [
    {
     "data": {
      "text/plain": [
       "1.4142135623730951"
      ]
     },
     "execution_count": 23,
     "metadata": {},
     "output_type": "execute_result"
    }
   ],
   "source": [
    "import math # imports everything\n",
    "math.sqrt(2)\n",
    "from math import * # imports everything as local\n",
    "sqrt(2)\n",
    "from math import sqrt as square_root # imports everything as other name local\n",
    "square_root(2)"
   ]
  },
  {
   "cell_type": "code",
   "execution_count": 24,
   "metadata": {},
   "outputs": [
    {
     "ename": "SyntaxError",
     "evalue": "invalid syntax (<ipython-input-24-9a7073640286>, line 1)",
     "output_type": "error",
     "traceback": [
      "\u001b[0;36m  File \u001b[0;32m\"<ipython-input-24-9a7073640286>\"\u001b[0;36m, line \u001b[0;32m1\u001b[0m\n\u001b[0;31m    Para ver la lista de simbolos de un paquete: `dir`.\u001b[0m\n\u001b[0m           ^\u001b[0m\n\u001b[0;31mSyntaxError\u001b[0m\u001b[0;31m:\u001b[0m invalid syntax\n"
     ]
    }
   ],
   "source": [
    "Para ver la lista de simbolos de un paquete: `dir`.\n",
    "\n",
    "    import math\n",
    "    dir(math)"
   ]
  },
  {
   "cell_type": "code",
   "execution_count": null,
   "metadata": {},
   "outputs": [],
   "source": [
    "Para ver la ayuda de un paquete `help`.\n",
    "\n",
    "    help(math.sqrt)"
   ]
  },
  {
   "cell_type": "markdown",
   "metadata": {},
   "source": [
    "# BIBLIOGRAFÍA\n",
    "\n",
    "[Scientific python lectures](https://github.com/jrjohansson/scientific-python-lectures)"
   ]
  },
  {
   "cell_type": "code",
   "execution_count": null,
   "metadata": {},
   "outputs": [],
   "source": []
  }
 ],
 "metadata": {
  "colab": {
   "collapsed_sections": [],
   "name": "py Apuntes Python.ipynb",
   "provenance": [],
   "version": "0.3.2"
  },
  "kernelspec": {
   "display_name": "Python 3",
   "language": "python",
   "name": "python3"
  },
  "language_info": {
   "codemirror_mode": {
    "name": "ipython",
    "version": 3
   },
   "file_extension": ".py",
   "mimetype": "text/x-python",
   "name": "python",
   "nbconvert_exporter": "python",
   "pygments_lexer": "ipython3",
   "version": "3.7.6"
  }
 },
 "nbformat": 4,
 "nbformat_minor": 4
}
